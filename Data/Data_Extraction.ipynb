{
 "cells": [
  {
   "cell_type": "markdown",
   "id": "24e36d93",
   "metadata": {},
   "source": [
    "## Crypto"
   ]
  },
  {
   "cell_type": "markdown",
   "id": "df3c2c13",
   "metadata": {},
   "source": [
    "Collected from [Coinmetrics](https://www.coinmetrics.io) through Academic Research API"
   ]
  },
  {
   "cell_type": "code",
   "execution_count": null,
   "id": "c8352806",
   "metadata": {},
   "outputs": [],
   "source": [
    "from coinmetrics.api_client import CoinMetricsClient \n",
    "import pandas as pd \n",
    "\n",
    "\n",
    "client = CoinMetricsClient(\"\") \n",
    "\n",
    "assets = ['1inch', 'aave', 'ada', 'alcx', 'algo', 'alpha', 'ant', 'ape', 'api3', 'atom',\n",
    "          'audio', 'avax', 'badger', 'bal', 'bat', 'bch', 'bit', 'bnb', 'bnt',\n",
    "          'bsv', 'btc', 'btg', 'busd', 'cel', 'comp', 'cro', 'crv', 'cvc', 'cvx',\n",
    "          'dai', 'dash', 'dcr', 'dgb', 'doge', 'dot', 'drgn', 'elf', 'enj', 'ens',\n",
    "          'eos', 'etc', 'eth', 'fida', 'fil', 'flow', 'ftt', 'fun', 'fxs', 'gala',\n",
    "          'gas', 'glm', 'gno', 'gnt', 'grin', 'grt', 'gusd', 'hbtc', 'hedg', 'ht',\n",
    "          'husd', 'icp', 'icx', 'knc', 'ldo', 'lend', 'link', 'loom', 'lpt', 'lrc',\n",
    "          'lsk', 'ltc', 'luna', 'maid', 'mana', 'mkr', 'mtl_metal', 'near', 'neo', 'nmr',\n",
    "          'ogn', 'omg', 'pax', 'paxg', 'pay', 'perp', 'poly', 'powr', 'ppt', 'qash',\n",
    "          'qnt', 'qtum', 'ren', 'renbtc', 'rep', 'rook', 'rsr', 'sand', 'shib', 'skl',\n",
    "          'snt', 'snx', 'sol', 'srm', 'storj', 'sushi', 'swrv', 'trx', 'tusd', 'uma',\n",
    "          'uni', 'usdc', 'usdt', 'vet', 'vtc', 'waves', 'wnxm', 'wtc',\n",
    "          'xaut', 'xem', 'xlm', 'xmr', 'xrp', 'xtz', 'xvg', 'yfi', 'zec', 'zil', 'zrx']\n",
    "\n",
    "\n",
    "\n",
    "metrics = ['PriceUSD', 'TxCnt', 'CapMrktEstUSD', 'volume_trusted_spot_usd_1d', 'AdrActCnt'] \n",
    "\n",
    "\n",
    "asset_metrics = client.get_asset_metrics( \n",
    "    assets = assets, \n",
    "    metrics = metrics, \n",
    "    start_time= '2015-01-01', \n",
    "    end_time= '2025-05-31', \n",
    "    frequency='1d' \n",
    "\n",
    ").to_dataframe() \n",
    "\n",
    "\n",
    "\n",
    "df = pd.DataFrame(asset_metrics) \n",
    "\n",
    "df.to_csv('coinmetrics_crypto.csv', index=False)"
   ]
  },
  {
   "cell_type": "markdown",
   "id": "ce24be3f",
   "metadata": {},
   "source": [
    "## Gold "
   ]
  },
  {
   "cell_type": "markdown",
   "id": "727b5cf8",
   "metadata": {},
   "source": [
    "Collected from Refinitiv GOLDBLN "
   ]
  },
  {
   "cell_type": "code",
   "execution_count": null,
   "id": "7a3865a5",
   "metadata": {},
   "outputs": [
    {
     "name": "stdout",
     "output_type": "stream",
     "text": [
      "            symbol     high      low     open    close\n",
      "date                                                  \n",
      "2013-06-27  GLDBLN  1244.50  1223.49  1241.77  1228.28\n",
      "2013-06-28  GLDBLN  1221.10  1180.70  1208.70  1215.43\n",
      "2013-06-29  GLDBLN  1221.10  1180.70  1208.70  1215.43\n",
      "2013-06-30  GLDBLN  1221.10  1180.70  1208.70  1215.43\n",
      "2013-07-01  GLDBLN  1250.45  1225.81  1247.28  1246.84\n",
      "...            ...      ...      ...      ...      ...\n",
      "2025-06-23  GLDBLN  3398.50  3346.79  3356.83  3387.76\n",
      "2025-06-24  GLDBLN  3370.56  3294.99  3332.43  3302.11\n",
      "2025-06-25  GLDBLN  3336.95  3311.69  3331.59  3325.64\n",
      "2025-06-26  GLDBLN  3350.09  3309.73  3334.19  3323.59\n",
      "2025-06-27  GLDBLN  3328.16  3255.36  3297.75  3273.17\n",
      "\n",
      "[4384 rows x 5 columns]\n"
     ]
    }
   ],
   "source": [
    "import pandas as pd\n",
    "import numpy as np\n",
    "\n",
    "\n",
    "df_gold = pd.read_excel('To clean/gold_data.xlsx', sheet_name='data') ## Gold data 1 gold_data.xlsx\n",
    "\n",
    "df_gold['date'] = pd.to_datetime(df_gold['date'])\n",
    "df_gold.set_index('date', inplace=True)\n",
    "\n",
    "full_index = pd.date_range(start=df_gold.index.min(), end=df_gold.index.max(), freq='D')\n",
    "\n",
    "df_gold = df_gold.reindex(full_index).ffill()\n",
    "\n",
    "df_gold.index.name = 'date'\n",
    "\n",
    "df_gold.to_csv('Cleaned Datasets/new_gold_data.csv')\n",
    "\n",
    "print(df_gold)\n"
   ]
  },
  {
   "cell_type": "markdown",
   "id": "6bd0745a",
   "metadata": {},
   "source": [
    "## VIX "
   ]
  },
  {
   "cell_type": "markdown",
   "id": "b046a4f0",
   "metadata": {},
   "source": [
    "Collected from [FRED](https://fred.stlouisfed.org/series/VIXCLS)"
   ]
  },
  {
   "cell_type": "code",
   "execution_count": null,
   "id": "abf7e0e1",
   "metadata": {},
   "outputs": [
    {
     "data": {
      "application/vnd.microsoft.datawrangler.viewer.v0+json": {
       "columns": [
        {
         "name": "date",
         "rawType": "datetime64[ns]",
         "type": "datetime"
        },
        {
         "name": "VIX",
         "rawType": "float64",
         "type": "float"
        }
       ],
       "ref": "81dbb889-6a5e-455f-9462-bd730acd12bc",
       "rows": [
        [
         "2015-01-01 00:00:00",
         "19.2"
        ],
        [
         "2015-01-02 00:00:00",
         "17.79"
        ],
        [
         "2015-01-03 00:00:00",
         "17.79"
        ],
        [
         "2015-01-04 00:00:00",
         "17.79"
        ],
        [
         "2015-01-05 00:00:00",
         "19.92"
        ],
        [
         "2015-01-06 00:00:00",
         "21.12"
        ],
        [
         "2015-01-07 00:00:00",
         "19.31"
        ],
        [
         "2015-01-08 00:00:00",
         "17.01"
        ],
        [
         "2015-01-09 00:00:00",
         "17.55"
        ],
        [
         "2015-01-10 00:00:00",
         "17.55"
        ],
        [
         "2015-01-11 00:00:00",
         "17.55"
        ],
        [
         "2015-01-12 00:00:00",
         "19.6"
        ],
        [
         "2015-01-13 00:00:00",
         "20.56"
        ],
        [
         "2015-01-14 00:00:00",
         "21.48"
        ],
        [
         "2015-01-15 00:00:00",
         "22.39"
        ],
        [
         "2015-01-16 00:00:00",
         "20.95"
        ],
        [
         "2015-01-17 00:00:00",
         "20.95"
        ],
        [
         "2015-01-18 00:00:00",
         "20.95"
        ],
        [
         "2015-01-19 00:00:00",
         "20.95"
        ],
        [
         "2015-01-20 00:00:00",
         "19.89"
        ],
        [
         "2015-01-21 00:00:00",
         "18.85"
        ],
        [
         "2015-01-22 00:00:00",
         "16.4"
        ],
        [
         "2015-01-23 00:00:00",
         "16.66"
        ],
        [
         "2015-01-24 00:00:00",
         "16.66"
        ],
        [
         "2015-01-25 00:00:00",
         "16.66"
        ],
        [
         "2015-01-26 00:00:00",
         "15.52"
        ],
        [
         "2015-01-27 00:00:00",
         "17.22"
        ],
        [
         "2015-01-28 00:00:00",
         "20.44"
        ],
        [
         "2015-01-29 00:00:00",
         "18.76"
        ],
        [
         "2015-01-30 00:00:00",
         "20.97"
        ],
        [
         "2015-01-31 00:00:00",
         "20.97"
        ],
        [
         "2015-02-01 00:00:00",
         "20.97"
        ],
        [
         "2015-02-02 00:00:00",
         "19.43"
        ],
        [
         "2015-02-03 00:00:00",
         "17.33"
        ],
        [
         "2015-02-04 00:00:00",
         "18.33"
        ],
        [
         "2015-02-05 00:00:00",
         "16.85"
        ],
        [
         "2015-02-06 00:00:00",
         "17.29"
        ],
        [
         "2015-02-07 00:00:00",
         "17.29"
        ],
        [
         "2015-02-08 00:00:00",
         "17.29"
        ],
        [
         "2015-02-09 00:00:00",
         "18.55"
        ],
        [
         "2015-02-10 00:00:00",
         "17.23"
        ],
        [
         "2015-02-11 00:00:00",
         "16.96"
        ],
        [
         "2015-02-12 00:00:00",
         "15.34"
        ],
        [
         "2015-02-13 00:00:00",
         "14.69"
        ],
        [
         "2015-02-14 00:00:00",
         "14.69"
        ],
        [
         "2015-02-15 00:00:00",
         "14.69"
        ],
        [
         "2015-02-16 00:00:00",
         "14.69"
        ],
        [
         "2015-02-17 00:00:00",
         "15.8"
        ],
        [
         "2015-02-18 00:00:00",
         "15.45"
        ],
        [
         "2015-02-19 00:00:00",
         "15.29"
        ]
       ],
       "shape": {
        "columns": 1,
        "rows": 3804
       }
      },
      "text/html": [
       "<div>\n",
       "<style scoped>\n",
       "    .dataframe tbody tr th:only-of-type {\n",
       "        vertical-align: middle;\n",
       "    }\n",
       "\n",
       "    .dataframe tbody tr th {\n",
       "        vertical-align: top;\n",
       "    }\n",
       "\n",
       "    .dataframe thead th {\n",
       "        text-align: right;\n",
       "    }\n",
       "</style>\n",
       "<table border=\"1\" class=\"dataframe\">\n",
       "  <thead>\n",
       "    <tr style=\"text-align: right;\">\n",
       "      <th></th>\n",
       "      <th>VIX</th>\n",
       "    </tr>\n",
       "    <tr>\n",
       "      <th>date</th>\n",
       "      <th></th>\n",
       "    </tr>\n",
       "  </thead>\n",
       "  <tbody>\n",
       "    <tr>\n",
       "      <th>2015-01-01</th>\n",
       "      <td>19.20</td>\n",
       "    </tr>\n",
       "    <tr>\n",
       "      <th>2015-01-02</th>\n",
       "      <td>17.79</td>\n",
       "    </tr>\n",
       "    <tr>\n",
       "      <th>2015-01-03</th>\n",
       "      <td>17.79</td>\n",
       "    </tr>\n",
       "    <tr>\n",
       "      <th>2015-01-04</th>\n",
       "      <td>17.79</td>\n",
       "    </tr>\n",
       "    <tr>\n",
       "      <th>2015-01-05</th>\n",
       "      <td>19.92</td>\n",
       "    </tr>\n",
       "    <tr>\n",
       "      <th>...</th>\n",
       "      <td>...</td>\n",
       "    </tr>\n",
       "    <tr>\n",
       "      <th>2025-05-27</th>\n",
       "      <td>18.96</td>\n",
       "    </tr>\n",
       "    <tr>\n",
       "      <th>2025-05-28</th>\n",
       "      <td>19.31</td>\n",
       "    </tr>\n",
       "    <tr>\n",
       "      <th>2025-05-29</th>\n",
       "      <td>19.18</td>\n",
       "    </tr>\n",
       "    <tr>\n",
       "      <th>2025-05-30</th>\n",
       "      <td>18.57</td>\n",
       "    </tr>\n",
       "    <tr>\n",
       "      <th>2025-05-31</th>\n",
       "      <td>18.57</td>\n",
       "    </tr>\n",
       "  </tbody>\n",
       "</table>\n",
       "<p>3804 rows × 1 columns</p>\n",
       "</div>"
      ],
      "text/plain": [
       "              VIX\n",
       "date             \n",
       "2015-01-01  19.20\n",
       "2015-01-02  17.79\n",
       "2015-01-03  17.79\n",
       "2015-01-04  17.79\n",
       "2015-01-05  19.92\n",
       "...           ...\n",
       "2025-05-27  18.96\n",
       "2025-05-28  19.31\n",
       "2025-05-29  19.18\n",
       "2025-05-30  18.57\n",
       "2025-05-31  18.57\n",
       "\n",
       "[3804 rows x 1 columns]"
      ]
     },
     "execution_count": 2,
     "metadata": {},
     "output_type": "execute_result"
    }
   ],
   "source": [
    "import pandas as pd\n",
    "\n",
    "df_vix = pd.read_csv('To clean/VIX_FRED.csv')\n",
    "df_vix = df_vix.rename(columns={'observation_date': 'date', 'VIXCLS': 'VIX'})\n",
    "\n",
    "df_vix['date'] = pd.to_datetime(df_vix['date'])\n",
    "df_vix = df_vix.set_index('date')\n",
    "\n",
    "full_index = pd.date_range(start=df_vix.index.min(), end=df_vix.index.max(), freq='D')\n",
    "\n",
    "df_vix = df_vix.reindex(full_index).ffill()\n",
    "\n",
    "df_vix.index.name = 'date'\n",
    "df_vix.to_csv('Cleaned Datasets/new_vix.csv')\n",
    "\n",
    "df_vix\n"
   ]
  },
  {
   "cell_type": "markdown",
   "id": "82037da3",
   "metadata": {},
   "source": [
    "## Fear and Greed Crypto"
   ]
  },
  {
   "cell_type": "markdown",
   "id": "e45b9e9c",
   "metadata": {},
   "source": [
    "Collected from [alternative.me](https://api.alternative.me/fng/?limit=0&format=csv)"
   ]
  },
  {
   "cell_type": "code",
   "execution_count": null,
   "id": "84ae6860",
   "metadata": {},
   "outputs": [
    {
     "data": {
      "application/vnd.microsoft.datawrangler.viewer.v0+json": {
       "columns": [
        {
         "name": "index",
         "rawType": "int64",
         "type": "integer"
        },
        {
         "name": "date",
         "rawType": "datetime64[ns]",
         "type": "datetime"
        },
        {
         "name": "fng_value",
         "rawType": "float64",
         "type": "float"
        },
        {
         "name": "fng_classification",
         "rawType": "object",
         "type": "string"
        }
       ],
       "ref": "7b54d9a7-cea0-4353-a065-e1e5ac0f287f",
       "rows": [
        [
         "0",
         "2018-02-01 00:00:00",
         "30.0",
         "Fear"
        ],
        [
         "1",
         "2018-02-02 00:00:00",
         "15.0",
         "Extreme Fear"
        ],
        [
         "2",
         "2018-02-03 00:00:00",
         "40.0",
         "Fear"
        ],
        [
         "3",
         "2018-02-04 00:00:00",
         "24.0",
         "Extreme Fear"
        ],
        [
         "4",
         "2018-02-05 00:00:00",
         "11.0",
         "Extreme Fear"
        ],
        [
         "5",
         "2018-02-06 00:00:00",
         "8.0",
         "Extreme Fear"
        ],
        [
         "6",
         "2018-02-07 00:00:00",
         "36.0",
         "Fear"
        ],
        [
         "7",
         "2018-02-08 00:00:00",
         "30.0",
         "Fear"
        ],
        [
         "8",
         "2018-02-09 00:00:00",
         "44.0",
         "Fear"
        ],
        [
         "9",
         "2018-02-10 00:00:00",
         "54.0",
         "Neutral"
        ],
        [
         "10",
         "2018-02-11 00:00:00",
         "31.0",
         "Fear"
        ],
        [
         "11",
         "2018-02-12 00:00:00",
         "42.0",
         "Fear"
        ],
        [
         "12",
         "2018-02-13 00:00:00",
         "35.0",
         "Fear"
        ],
        [
         "13",
         "2018-02-14 00:00:00",
         "55.0",
         "Greed"
        ],
        [
         "14",
         "2018-02-15 00:00:00",
         "71.0",
         "Greed"
        ],
        [
         "15",
         "2018-02-16 00:00:00",
         "67.0",
         "Greed"
        ],
        [
         "16",
         "2018-02-17 00:00:00",
         "74.0",
         "Greed"
        ],
        [
         "17",
         "2018-02-18 00:00:00",
         "63.0",
         "Greed"
        ],
        [
         "18",
         "2018-02-19 00:00:00",
         "67.0",
         "Greed"
        ],
        [
         "19",
         "2018-02-20 00:00:00",
         "74.0",
         "Greed"
        ],
        [
         "20",
         "2018-02-21 00:00:00",
         "54.0",
         "Neutral"
        ],
        [
         "21",
         "2018-02-22 00:00:00",
         "44.0",
         "Fear"
        ],
        [
         "22",
         "2018-02-23 00:00:00",
         "39.0",
         "Fear"
        ],
        [
         "23",
         "2018-02-24 00:00:00",
         "31.0",
         "Fear"
        ],
        [
         "24",
         "2018-02-25 00:00:00",
         "33.0",
         "Fear"
        ],
        [
         "25",
         "2018-02-26 00:00:00",
         "37.0",
         "Fear"
        ],
        [
         "26",
         "2018-02-27 00:00:00",
         "44.0",
         "Fear"
        ],
        [
         "27",
         "2018-02-28 00:00:00",
         "41.0",
         "Fear"
        ],
        [
         "28",
         "2018-03-01 00:00:00",
         "38.0",
         "Fear"
        ],
        [
         "29",
         "2018-03-02 00:00:00",
         "47.0",
         "Neutral"
        ],
        [
         "30",
         "2018-03-03 00:00:00",
         "56.0",
         "Greed"
        ],
        [
         "31",
         "2018-03-04 00:00:00",
         "44.0",
         "Fear"
        ],
        [
         "32",
         "2018-03-05 00:00:00",
         "55.0",
         "Greed"
        ],
        [
         "33",
         "2018-03-06 00:00:00",
         "59.0",
         "Greed"
        ],
        [
         "34",
         "2018-03-07 00:00:00",
         "37.0",
         "Fear"
        ],
        [
         "35",
         "2018-03-08 00:00:00",
         "39.0",
         "Fear"
        ],
        [
         "36",
         "2018-03-09 00:00:00",
         "37.0",
         "Fear"
        ],
        [
         "37",
         "2018-03-10 00:00:00",
         "39.0",
         "Fear"
        ],
        [
         "38",
         "2018-03-11 00:00:00",
         "40.0",
         "Fear"
        ],
        [
         "39",
         "2018-03-12 00:00:00",
         "41.0",
         "Fear"
        ],
        [
         "40",
         "2018-03-13 00:00:00",
         "41.0",
         "Fear"
        ],
        [
         "41",
         "2018-03-14 00:00:00",
         "40.0",
         "Fear"
        ],
        [
         "42",
         "2018-03-15 00:00:00",
         "32.0",
         "Fear"
        ],
        [
         "43",
         "2018-03-16 00:00:00",
         "33.0",
         "Fear"
        ],
        [
         "44",
         "2018-03-17 00:00:00",
         "31.0",
         "Fear"
        ],
        [
         "45",
         "2018-03-18 00:00:00",
         "29.0",
         "Fear"
        ],
        [
         "46",
         "2018-03-19 00:00:00",
         "29.0",
         "Fear"
        ],
        [
         "47",
         "2018-03-20 00:00:00",
         "37.0",
         "Fear"
        ],
        [
         "48",
         "2018-03-21 00:00:00",
         "36.0",
         "Fear"
        ],
        [
         "49",
         "2018-03-22 00:00:00",
         "36.0",
         "Fear"
        ]
       ],
       "shape": {
        "columns": 3,
        "rows": 2722
       }
      },
      "text/html": [
       "<div>\n",
       "<style scoped>\n",
       "    .dataframe tbody tr th:only-of-type {\n",
       "        vertical-align: middle;\n",
       "    }\n",
       "\n",
       "    .dataframe tbody tr th {\n",
       "        vertical-align: top;\n",
       "    }\n",
       "\n",
       "    .dataframe thead th {\n",
       "        text-align: right;\n",
       "    }\n",
       "</style>\n",
       "<table border=\"1\" class=\"dataframe\">\n",
       "  <thead>\n",
       "    <tr style=\"text-align: right;\">\n",
       "      <th></th>\n",
       "      <th>date</th>\n",
       "      <th>fng_value</th>\n",
       "      <th>fng_classification</th>\n",
       "    </tr>\n",
       "  </thead>\n",
       "  <tbody>\n",
       "    <tr>\n",
       "      <th>0</th>\n",
       "      <td>2018-02-01</td>\n",
       "      <td>30.0</td>\n",
       "      <td>Fear</td>\n",
       "    </tr>\n",
       "    <tr>\n",
       "      <th>1</th>\n",
       "      <td>2018-02-02</td>\n",
       "      <td>15.0</td>\n",
       "      <td>Extreme Fear</td>\n",
       "    </tr>\n",
       "    <tr>\n",
       "      <th>2</th>\n",
       "      <td>2018-02-03</td>\n",
       "      <td>40.0</td>\n",
       "      <td>Fear</td>\n",
       "    </tr>\n",
       "    <tr>\n",
       "      <th>3</th>\n",
       "      <td>2018-02-04</td>\n",
       "      <td>24.0</td>\n",
       "      <td>Extreme Fear</td>\n",
       "    </tr>\n",
       "    <tr>\n",
       "      <th>4</th>\n",
       "      <td>2018-02-05</td>\n",
       "      <td>11.0</td>\n",
       "      <td>Extreme Fear</td>\n",
       "    </tr>\n",
       "    <tr>\n",
       "      <th>...</th>\n",
       "      <td>...</td>\n",
       "      <td>...</td>\n",
       "      <td>...</td>\n",
       "    </tr>\n",
       "    <tr>\n",
       "      <th>2717</th>\n",
       "      <td>2025-07-15</td>\n",
       "      <td>73.0</td>\n",
       "      <td>Greed</td>\n",
       "    </tr>\n",
       "    <tr>\n",
       "      <th>2718</th>\n",
       "      <td>2025-07-16</td>\n",
       "      <td>70.0</td>\n",
       "      <td>Greed</td>\n",
       "    </tr>\n",
       "    <tr>\n",
       "      <th>2719</th>\n",
       "      <td>2025-07-17</td>\n",
       "      <td>74.0</td>\n",
       "      <td>Greed</td>\n",
       "    </tr>\n",
       "    <tr>\n",
       "      <th>2720</th>\n",
       "      <td>2025-07-18</td>\n",
       "      <td>73.0</td>\n",
       "      <td>Greed</td>\n",
       "    </tr>\n",
       "    <tr>\n",
       "      <th>2721</th>\n",
       "      <td>2025-07-19</td>\n",
       "      <td>74.0</td>\n",
       "      <td>Greed</td>\n",
       "    </tr>\n",
       "  </tbody>\n",
       "</table>\n",
       "<p>2722 rows × 3 columns</p>\n",
       "</div>"
      ],
      "text/plain": [
       "           date  fng_value fng_classification\n",
       "0    2018-02-01       30.0               Fear\n",
       "1    2018-02-02       15.0       Extreme Fear\n",
       "2    2018-02-03       40.0               Fear\n",
       "3    2018-02-04       24.0       Extreme Fear\n",
       "4    2018-02-05       11.0       Extreme Fear\n",
       "...         ...        ...                ...\n",
       "2717 2025-07-15       73.0              Greed\n",
       "2718 2025-07-16       70.0              Greed\n",
       "2719 2025-07-17       74.0              Greed\n",
       "2720 2025-07-18       73.0              Greed\n",
       "2721 2025-07-19       74.0              Greed\n",
       "\n",
       "[2722 rows x 3 columns]"
      ]
     },
     "execution_count": 3,
     "metadata": {},
     "output_type": "execute_result"
    }
   ],
   "source": [
    "import requests\n",
    "import pandas as pd\n",
    "from io import StringIO\n",
    "\n",
    "url = \"https://api.alternative.me/fng/?limit=0&format=csv\"\n",
    "\n",
    "response = requests.get(url)\n",
    "response.raise_for_status()\n",
    "start = response.text.find(\"fng_value\")\n",
    "csv_text = response.text[start:].strip()\n",
    "df = pd.read_csv(StringIO(csv_text), names=[\"date\", \"fng_value\", \"fng_classification\"], skiprows=1)\n",
    "df[\"date\"] = pd.to_datetime(df[\"date\"], format=\"%d-%m-%Y\", errors=\"coerce\")\n",
    "df = df.dropna(subset=[\"date\"])\n",
    "df = df.sort_values(\"date\").reset_index(drop=True)\n",
    "\n",
    "df.to_csv('Cleaned Datasets/new_fear_and_greed.csv')\n",
    "\n",
    "\n"
   ]
  },
  {
   "cell_type": "markdown",
   "id": "ead35a5d",
   "metadata": {},
   "source": [
    "## Consumer Sentiment"
   ]
  },
  {
   "cell_type": "markdown",
   "id": "0a71b725",
   "metadata": {},
   "source": [
    "Collected from [Surveys of Consumers - University of Michigan](https://data.sca.isr.umich.edu/)"
   ]
  },
  {
   "cell_type": "code",
   "execution_count": null,
   "id": "b910278f",
   "metadata": {},
   "outputs": [
    {
     "data": {
      "application/vnd.microsoft.datawrangler.viewer.v0+json": {
       "columns": [
        {
         "name": "date",
         "rawType": "datetime64[ns]",
         "type": "datetime"
        },
        {
         "name": "ConSIX",
         "rawType": "float64",
         "type": "float"
        }
       ],
       "ref": "dd30618e-f777-4055-aa4f-5637e5a98b66",
       "rows": [
        [
         "2015-01-01 00:00:00",
         "98.1"
        ],
        [
         "2015-01-02 00:00:00",
         "98.1"
        ],
        [
         "2015-01-03 00:00:00",
         "98.1"
        ],
        [
         "2015-01-04 00:00:00",
         "98.1"
        ],
        [
         "2015-01-05 00:00:00",
         "98.1"
        ],
        [
         "2015-01-06 00:00:00",
         "98.1"
        ],
        [
         "2015-01-07 00:00:00",
         "98.1"
        ],
        [
         "2015-01-08 00:00:00",
         "98.1"
        ],
        [
         "2015-01-09 00:00:00",
         "98.1"
        ],
        [
         "2015-01-10 00:00:00",
         "98.1"
        ],
        [
         "2015-01-11 00:00:00",
         "98.1"
        ],
        [
         "2015-01-12 00:00:00",
         "98.1"
        ],
        [
         "2015-01-13 00:00:00",
         "98.1"
        ],
        [
         "2015-01-14 00:00:00",
         "98.1"
        ],
        [
         "2015-01-15 00:00:00",
         "98.1"
        ],
        [
         "2015-01-16 00:00:00",
         "98.1"
        ],
        [
         "2015-01-17 00:00:00",
         "98.1"
        ],
        [
         "2015-01-18 00:00:00",
         "98.1"
        ],
        [
         "2015-01-19 00:00:00",
         "98.1"
        ],
        [
         "2015-01-20 00:00:00",
         "98.1"
        ],
        [
         "2015-01-21 00:00:00",
         "98.1"
        ],
        [
         "2015-01-22 00:00:00",
         "98.1"
        ],
        [
         "2015-01-23 00:00:00",
         "98.1"
        ],
        [
         "2015-01-24 00:00:00",
         "98.1"
        ],
        [
         "2015-01-25 00:00:00",
         "98.1"
        ],
        [
         "2015-01-26 00:00:00",
         "98.1"
        ],
        [
         "2015-01-27 00:00:00",
         "98.1"
        ],
        [
         "2015-01-28 00:00:00",
         "98.1"
        ],
        [
         "2015-01-29 00:00:00",
         "98.1"
        ],
        [
         "2015-01-30 00:00:00",
         "98.1"
        ],
        [
         "2015-01-31 00:00:00",
         "98.1"
        ],
        [
         "2015-02-01 00:00:00",
         "95.4"
        ],
        [
         "2015-02-02 00:00:00",
         "95.4"
        ],
        [
         "2015-02-03 00:00:00",
         "95.4"
        ],
        [
         "2015-02-04 00:00:00",
         "95.4"
        ],
        [
         "2015-02-05 00:00:00",
         "95.4"
        ],
        [
         "2015-02-06 00:00:00",
         "95.4"
        ],
        [
         "2015-02-07 00:00:00",
         "95.4"
        ],
        [
         "2015-02-08 00:00:00",
         "95.4"
        ],
        [
         "2015-02-09 00:00:00",
         "95.4"
        ],
        [
         "2015-02-10 00:00:00",
         "95.4"
        ],
        [
         "2015-02-11 00:00:00",
         "95.4"
        ],
        [
         "2015-02-12 00:00:00",
         "95.4"
        ],
        [
         "2015-02-13 00:00:00",
         "95.4"
        ],
        [
         "2015-02-14 00:00:00",
         "95.4"
        ],
        [
         "2015-02-15 00:00:00",
         "95.4"
        ],
        [
         "2015-02-16 00:00:00",
         "95.4"
        ],
        [
         "2015-02-17 00:00:00",
         "95.4"
        ],
        [
         "2015-02-18 00:00:00",
         "95.4"
        ],
        [
         "2015-02-19 00:00:00",
         "95.4"
        ]
       ],
       "shape": {
        "columns": 1,
        "rows": 3804
       }
      },
      "text/html": [
       "<div>\n",
       "<style scoped>\n",
       "    .dataframe tbody tr th:only-of-type {\n",
       "        vertical-align: middle;\n",
       "    }\n",
       "\n",
       "    .dataframe tbody tr th {\n",
       "        vertical-align: top;\n",
       "    }\n",
       "\n",
       "    .dataframe thead th {\n",
       "        text-align: right;\n",
       "    }\n",
       "</style>\n",
       "<table border=\"1\" class=\"dataframe\">\n",
       "  <thead>\n",
       "    <tr style=\"text-align: right;\">\n",
       "      <th></th>\n",
       "      <th>ConSIX</th>\n",
       "    </tr>\n",
       "    <tr>\n",
       "      <th>date</th>\n",
       "      <th></th>\n",
       "    </tr>\n",
       "  </thead>\n",
       "  <tbody>\n",
       "    <tr>\n",
       "      <th>2015-01-01</th>\n",
       "      <td>98.1</td>\n",
       "    </tr>\n",
       "    <tr>\n",
       "      <th>2015-01-02</th>\n",
       "      <td>98.1</td>\n",
       "    </tr>\n",
       "    <tr>\n",
       "      <th>2015-01-03</th>\n",
       "      <td>98.1</td>\n",
       "    </tr>\n",
       "    <tr>\n",
       "      <th>2015-01-04</th>\n",
       "      <td>98.1</td>\n",
       "    </tr>\n",
       "    <tr>\n",
       "      <th>2015-01-05</th>\n",
       "      <td>98.1</td>\n",
       "    </tr>\n",
       "    <tr>\n",
       "      <th>...</th>\n",
       "      <td>...</td>\n",
       "    </tr>\n",
       "    <tr>\n",
       "      <th>2025-05-27</th>\n",
       "      <td>52.2</td>\n",
       "    </tr>\n",
       "    <tr>\n",
       "      <th>2025-05-28</th>\n",
       "      <td>52.2</td>\n",
       "    </tr>\n",
       "    <tr>\n",
       "      <th>2025-05-29</th>\n",
       "      <td>52.2</td>\n",
       "    </tr>\n",
       "    <tr>\n",
       "      <th>2025-05-30</th>\n",
       "      <td>52.2</td>\n",
       "    </tr>\n",
       "    <tr>\n",
       "      <th>2025-05-31</th>\n",
       "      <td>52.2</td>\n",
       "    </tr>\n",
       "  </tbody>\n",
       "</table>\n",
       "<p>3804 rows × 1 columns</p>\n",
       "</div>"
      ],
      "text/plain": [
       "            ConSIX\n",
       "date              \n",
       "2015-01-01    98.1\n",
       "2015-01-02    98.1\n",
       "2015-01-03    98.1\n",
       "2015-01-04    98.1\n",
       "2015-01-05    98.1\n",
       "...            ...\n",
       "2025-05-27    52.2\n",
       "2025-05-28    52.2\n",
       "2025-05-29    52.2\n",
       "2025-05-30    52.2\n",
       "2025-05-31    52.2\n",
       "\n",
       "[3804 rows x 1 columns]"
      ]
     },
     "execution_count": 5,
     "metadata": {},
     "output_type": "execute_result"
    }
   ],
   "source": [
    "import pandas as pd\n",
    "\n",
    "df_consumer_sentiment = pd.read_csv('To clean/Consumer sentiment data/sca-table1-on-2025-Jun-30.csv', header=1)\n",
    "\n",
    "df_consumer_sentiment['date'] = df_consumer_sentiment['Month'].astype(str) + '/' + df_consumer_sentiment['Year'].astype(str)\n",
    "df_consumer_sentiment['date'] = pd.to_datetime(df_consumer_sentiment['date'], format='%m/%Y')\n",
    "df_consumer_sentiment = df_consumer_sentiment.rename(columns={'Index': 'ConSIX'})\n",
    "df_consumer_sentiment = df_consumer_sentiment.drop(columns=['Month', 'Year', 'Unnamed: 3'], axis=1)\n",
    "df_consumer_sentiment = df_consumer_sentiment.set_index('date')\n",
    "df_consumer_sentiment = df_consumer_sentiment[df_consumer_sentiment.index >= '2015-01-01']\n",
    "\n",
    "last_date = df_consumer_sentiment.index.max()\n",
    "last_day = last_date + pd.offsets.MonthEnd(0)\n",
    "\n",
    "# forwar filled missing dates in order to have daily data from 2015-01-01 to the last day of the last month\n",
    "daily_index = pd.date_range(start=df_consumer_sentiment.index.min(), end=last_day, freq='D')\n",
    "df_consumer_sentiment_daily = df_consumer_sentiment.reindex(daily_index, method='ffill')\n",
    "df_consumer_sentiment_daily.index.name = 'date'\n",
    "\n",
    "df_consumer_sentiment_daily.to_csv('Cleaned Datasets/new_consumer_sentiment.csv')\n",
    "df_consumer_sentiment_daily"
   ]
  },
  {
   "cell_type": "markdown",
   "id": "9fcbb8ea",
   "metadata": {},
   "source": [
    "## Twitter Sentiment"
   ]
  },
  {
   "cell_type": "markdown",
   "id": "1f017b92",
   "metadata": {},
   "source": [
    "Collected from [Harvard Dataverse](https://dataverse.harvard.edu/dataset.xhtml?persistentId=doi:10.7910/DVN/3IL00Q)"
   ]
  },
  {
   "cell_type": "code",
   "execution_count": null,
   "id": "e603cd38",
   "metadata": {},
   "outputs": [
    {
     "name": "stderr",
     "output_type": "stream",
     "text": [
      "/var/folders/40/rktqqvhn67376psyzng8whjc0000gn/T/ipykernel_5841/1628362909.py:18: FutureWarning: A value is trying to be set on a copy of a DataFrame or Series through chained assignment using an inplace method.\n",
      "The behavior will change in pandas 3.0. This inplace method will never work because the intermediate object on which we are setting values always behaves as a copy.\n",
      "\n",
      "For example, when doing 'df[col].method(value, inplace=True)', try using 'df.method({col: value}, inplace=True)' or df[col] = df[col].method(value) instead, to perform the operation inplace on the original object.\n",
      "\n",
      "\n",
      "  df_twitter_sentiment['TwitSIX'].ffill(inplace=True)\n"
     ]
    },
    {
     "data": {
      "application/vnd.microsoft.datawrangler.viewer.v0+json": {
       "columns": [
        {
         "name": "date",
         "rawType": "datetime64[ns]",
         "type": "datetime"
        },
        {
         "name": "TwitSIX",
         "rawType": "float64",
         "type": "float"
        }
       ],
       "ref": "018df573-c96b-430a-a8c5-7b63f4a6ac74",
       "rows": [
        [
         "2015-01-01 00:00:00",
         "0.5855485588559668"
        ],
        [
         "2015-01-02 00:00:00",
         "0.5608542718423025"
        ],
        [
         "2015-01-03 00:00:00",
         "0.5625504756272647"
        ],
        [
         "2015-01-04 00:00:00",
         "0.558479183490851"
        ],
        [
         "2015-01-05 00:00:00",
         "0.5478148949402342"
        ],
        [
         "2015-01-06 00:00:00",
         "0.5513904582893834"
        ],
        [
         "2015-01-07 00:00:00",
         "0.5491484294201013"
        ],
        [
         "2015-01-08 00:00:00",
         "0.5491878833883229"
        ],
        [
         "2015-01-09 00:00:00",
         "0.5533139636595346"
        ],
        [
         "2015-01-10 00:00:00",
         "0.5628223557636041"
        ],
        [
         "2015-01-11 00:00:00",
         "0.5600408347527279"
        ],
        [
         "2015-01-12 00:00:00",
         "0.5539309903814131"
        ],
        [
         "2015-01-13 00:00:00",
         "0.5501790961489151"
        ],
        [
         "2015-01-14 00:00:00",
         "0.5527131395471783"
        ],
        [
         "2015-01-15 00:00:00",
         "0.5526718271629482"
        ],
        [
         "2015-01-16 00:00:00",
         "0.5583020362362442"
        ],
        [
         "2015-01-17 00:00:00",
         "0.5648885596159396"
        ],
        [
         "2015-01-18 00:00:00",
         "0.5606252856394258"
        ],
        [
         "2015-01-19 00:00:00",
         "0.5529016757977654"
        ],
        [
         "2015-01-20 00:00:00",
         "0.5514297814375988"
        ],
        [
         "2015-01-21 00:00:00",
         "0.547192804592726"
        ],
        [
         "2015-01-22 00:00:00",
         "0.5460987107129741"
        ],
        [
         "2015-01-23 00:00:00",
         "0.5524077405082536"
        ],
        [
         "2015-01-24 00:00:00",
         "0.5610692438449701"
        ],
        [
         "2015-01-25 00:00:00",
         "0.55877294774071"
        ],
        [
         "2015-01-26 00:00:00",
         "0.5455824438871183"
        ],
        [
         "2015-01-27 00:00:00",
         "0.5443834103059393"
        ],
        [
         "2015-01-28 00:00:00",
         "0.5479677451729441"
        ],
        [
         "2015-01-29 00:00:00",
         "0.5485287912337581"
        ],
        [
         "2015-01-30 00:00:00",
         "0.5528863751552449"
        ],
        [
         "2015-01-31 00:00:00",
         "0.5627842323927023"
        ],
        [
         "2015-02-01 00:00:00",
         "0.5658332327811043"
        ],
        [
         "2015-02-02 00:00:00",
         "0.5476138000568002"
        ],
        [
         "2015-02-03 00:00:00",
         "0.5515083441470894"
        ],
        [
         "2015-02-04 00:00:00",
         "0.5521308714196296"
        ],
        [
         "2015-02-05 00:00:00",
         "0.5526087553492477"
        ],
        [
         "2015-02-06 00:00:00",
         "0.5564791396110346"
        ],
        [
         "2015-02-07 00:00:00",
         "0.5641925668512572"
        ],
        [
         "2015-02-08 00:00:00",
         "0.5606348074469292"
        ],
        [
         "2015-02-09 00:00:00",
         "0.552170370161292"
        ],
        [
         "2015-02-10 00:00:00",
         "0.5504179823371097"
        ],
        [
         "2015-02-11 00:00:00",
         "0.5525560295971211"
        ],
        [
         "2015-02-12 00:00:00",
         "0.5532585523603828"
        ],
        [
         "2015-02-13 00:00:00",
         "0.5608530976864231"
        ],
        [
         "2015-02-14 00:00:00",
         "0.5794547479085226"
        ],
        [
         "2015-02-15 00:00:00",
         "0.5658168334546083"
        ],
        [
         "2015-02-16 00:00:00",
         "0.5520012989309772"
        ],
        [
         "2015-02-17 00:00:00",
         "0.5503062390694011"
        ],
        [
         "2015-02-18 00:00:00",
         "0.5484584028735943"
        ],
        [
         "2015-02-19 00:00:00",
         "0.5507183356657567"
        ]
       ],
       "shape": {
        "columns": 1,
        "rows": 3090
       }
      },
      "text/html": [
       "<div>\n",
       "<style scoped>\n",
       "    .dataframe tbody tr th:only-of-type {\n",
       "        vertical-align: middle;\n",
       "    }\n",
       "\n",
       "    .dataframe tbody tr th {\n",
       "        vertical-align: top;\n",
       "    }\n",
       "\n",
       "    .dataframe thead th {\n",
       "        text-align: right;\n",
       "    }\n",
       "</style>\n",
       "<table border=\"1\" class=\"dataframe\">\n",
       "  <thead>\n",
       "    <tr style=\"text-align: right;\">\n",
       "      <th></th>\n",
       "      <th>TwitSIX</th>\n",
       "    </tr>\n",
       "    <tr>\n",
       "      <th>date</th>\n",
       "      <th></th>\n",
       "    </tr>\n",
       "  </thead>\n",
       "  <tbody>\n",
       "    <tr>\n",
       "      <th>2015-01-01</th>\n",
       "      <td>0.585549</td>\n",
       "    </tr>\n",
       "    <tr>\n",
       "      <th>2015-01-02</th>\n",
       "      <td>0.560854</td>\n",
       "    </tr>\n",
       "    <tr>\n",
       "      <th>2015-01-03</th>\n",
       "      <td>0.562550</td>\n",
       "    </tr>\n",
       "    <tr>\n",
       "      <th>2015-01-04</th>\n",
       "      <td>0.558479</td>\n",
       "    </tr>\n",
       "    <tr>\n",
       "      <th>2015-01-05</th>\n",
       "      <td>0.547815</td>\n",
       "    </tr>\n",
       "    <tr>\n",
       "      <th>...</th>\n",
       "      <td>...</td>\n",
       "    </tr>\n",
       "    <tr>\n",
       "      <th>2023-06-13</th>\n",
       "      <td>0.602388</td>\n",
       "    </tr>\n",
       "    <tr>\n",
       "      <th>2023-06-14</th>\n",
       "      <td>0.596577</td>\n",
       "    </tr>\n",
       "    <tr>\n",
       "      <th>2023-06-15</th>\n",
       "      <td>0.604111</td>\n",
       "    </tr>\n",
       "    <tr>\n",
       "      <th>2023-06-16</th>\n",
       "      <td>0.610378</td>\n",
       "    </tr>\n",
       "    <tr>\n",
       "      <th>2023-06-17</th>\n",
       "      <td>0.622158</td>\n",
       "    </tr>\n",
       "  </tbody>\n",
       "</table>\n",
       "<p>3090 rows × 1 columns</p>\n",
       "</div>"
      ],
      "text/plain": [
       "             TwitSIX\n",
       "date                \n",
       "2015-01-01  0.585549\n",
       "2015-01-02  0.560854\n",
       "2015-01-03  0.562550\n",
       "2015-01-04  0.558479\n",
       "2015-01-05  0.547815\n",
       "...              ...\n",
       "2023-06-13  0.602388\n",
       "2023-06-14  0.596577\n",
       "2023-06-15  0.604111\n",
       "2023-06-16  0.610378\n",
       "2023-06-17  0.622158\n",
       "\n",
       "[3090 rows x 1 columns]"
      ]
     },
     "execution_count": 6,
     "metadata": {},
     "output_type": "execute_result"
    }
   ],
   "source": [
    "import pandas as pd\n",
    "\n",
    "years = range(2015, 2024) \n",
    "\n",
    "dfs = []\n",
    "\n",
    "for year in years:\n",
    "    path = f'To clean/twitter sentiment/Sentiment Data - World/num_posts_and_sentiment_summary_{year}.csv'\n",
    "    df = pd.read_csv(path)\n",
    "    dfs.append(df)\n",
    "\n",
    "df_twitter_sentiment = pd.concat(dfs, ignore_index=True)\n",
    "\n",
    "df_twitter_sentiment = df_twitter_sentiment.drop(columns=['N'],axis=1)\n",
    "df_twitter_sentiment = df_twitter_sentiment.rename(columns={'DATE': 'date', 'SCORE': 'TwitSIX'})\n",
    "df_twitter_sentiment['date'] = pd.to_datetime(df_twitter_sentiment['date'], format='%Y-%m-%d')\n",
    "df_twitter_sentiment = df_twitter_sentiment.set_index('date')\n",
    "df_twitter_sentiment['TwitSIX'].ffill(inplace=True)\n",
    "\n",
    "cutoff = pd.to_datetime(\"2023-06-17\")\n",
    "df_twitter_sentiment = df_twitter_sentiment[df_twitter_sentiment.index <= cutoff]\n",
    "\n",
    "\n",
    "df_twitter_sentiment.to_csv('Cleaned Datasets/new_twitter_sentiment.csv')\n",
    "df_twitter_sentiment\n"
   ]
  },
  {
   "cell_type": "markdown",
   "id": "22dd34c0",
   "metadata": {},
   "source": [
    "## Global Economic Monitor"
   ]
  },
  {
   "cell_type": "markdown",
   "id": "2c87283b",
   "metadata": {},
   "source": [
    "Collected from [World Bank Group](https://datacatalog.worldbank.org/search/dataset/0037798)"
   ]
  },
  {
   "cell_type": "code",
   "execution_count": null,
   "id": "f9419eab",
   "metadata": {},
   "outputs": [
    {
     "data": {
      "application/vnd.microsoft.datawrangler.viewer.v0+json": {
       "columns": [
        {
         "name": "date",
         "rawType": "datetime64[ns]",
         "type": "datetime"
        },
        {
         "name": "TotRes",
         "rawType": "object",
         "type": "unknown"
        },
        {
         "name": "UnemRt",
         "rawType": "object",
         "type": "unknown"
        },
        {
         "name": "IndPro",
         "rawType": "object",
         "type": "unknown"
        },
        {
         "name": "CPIPrc",
         "rawType": "float64",
         "type": "float"
        }
       ],
       "ref": "f236494e-7b8f-4c1f-8e61-3d8b0795e6c7",
       "rows": [
        [
         "2015-01-01 00:00:00",
         "12187615.5899265",
         "7.24792462196",
         "1538620156444.79",
         "113.89708355763"
        ],
        [
         "2015-01-02 00:00:00",
         "12187615.5899265",
         "7.24792462196",
         "1538620156444.79",
         "113.89708355763"
        ],
        [
         "2015-01-03 00:00:00",
         "12187615.5899265",
         "7.24792462196",
         "1538620156444.79",
         "113.89708355763"
        ],
        [
         "2015-01-04 00:00:00",
         "12187615.5899265",
         "7.24792462196",
         "1538620156444.79",
         "113.89708355763"
        ],
        [
         "2015-01-05 00:00:00",
         "12187615.5899265",
         "7.24792462196",
         "1538620156444.79",
         "113.89708355763"
        ],
        [
         "2015-01-06 00:00:00",
         "12187615.5899265",
         "7.24792462196",
         "1538620156444.79",
         "113.89708355763"
        ],
        [
         "2015-01-07 00:00:00",
         "12187615.5899265",
         "7.24792462196",
         "1538620156444.79",
         "113.89708355763"
        ],
        [
         "2015-01-08 00:00:00",
         "12187615.5899265",
         "7.24792462196",
         "1538620156444.79",
         "113.89708355763"
        ],
        [
         "2015-01-09 00:00:00",
         "12187615.5899265",
         "7.24792462196",
         "1538620156444.79",
         "113.89708355763"
        ],
        [
         "2015-01-10 00:00:00",
         "12187615.5899265",
         "7.24792462196",
         "1538620156444.79",
         "113.89708355763"
        ],
        [
         "2015-01-11 00:00:00",
         "12187615.5899265",
         "7.24792462196",
         "1538620156444.79",
         "113.89708355763"
        ],
        [
         "2015-01-12 00:00:00",
         "12187615.5899265",
         "7.24792462196",
         "1538620156444.79",
         "113.89708355763"
        ],
        [
         "2015-01-13 00:00:00",
         "12187615.5899265",
         "7.24792462196",
         "1538620156444.79",
         "113.89708355763"
        ],
        [
         "2015-01-14 00:00:00",
         "12187615.5899265",
         "7.24792462196",
         "1538620156444.79",
         "113.89708355763"
        ],
        [
         "2015-01-15 00:00:00",
         "12187615.5899265",
         "7.24792462196",
         "1538620156444.79",
         "113.89708355763"
        ],
        [
         "2015-01-16 00:00:00",
         "12187615.5899265",
         "7.24792462196",
         "1538620156444.79",
         "113.89708355763"
        ],
        [
         "2015-01-17 00:00:00",
         "12187615.5899265",
         "7.24792462196",
         "1538620156444.79",
         "113.89708355763"
        ],
        [
         "2015-01-18 00:00:00",
         "12187615.5899265",
         "7.24792462196",
         "1538620156444.79",
         "113.89708355763"
        ],
        [
         "2015-01-19 00:00:00",
         "12187615.5899265",
         "7.24792462196",
         "1538620156444.79",
         "113.89708355763"
        ],
        [
         "2015-01-20 00:00:00",
         "12187615.5899265",
         "7.24792462196",
         "1538620156444.79",
         "113.89708355763"
        ],
        [
         "2015-01-21 00:00:00",
         "12187615.5899265",
         "7.24792462196",
         "1538620156444.79",
         "113.89708355763"
        ],
        [
         "2015-01-22 00:00:00",
         "12187615.5899265",
         "7.24792462196",
         "1538620156444.79",
         "113.89708355763"
        ],
        [
         "2015-01-23 00:00:00",
         "12187615.5899265",
         "7.24792462196",
         "1538620156444.79",
         "113.89708355763"
        ],
        [
         "2015-01-24 00:00:00",
         "12187615.5899265",
         "7.24792462196",
         "1538620156444.79",
         "113.89708355763"
        ],
        [
         "2015-01-25 00:00:00",
         "12187615.5899265",
         "7.24792462196",
         "1538620156444.79",
         "113.89708355763"
        ],
        [
         "2015-01-26 00:00:00",
         "12187615.5899265",
         "7.24792462196",
         "1538620156444.79",
         "113.89708355763"
        ],
        [
         "2015-01-27 00:00:00",
         "12187615.5899265",
         "7.24792462196",
         "1538620156444.79",
         "113.89708355763"
        ],
        [
         "2015-01-28 00:00:00",
         "12187615.5899265",
         "7.24792462196",
         "1538620156444.79",
         "113.89708355763"
        ],
        [
         "2015-01-29 00:00:00",
         "12187615.5899265",
         "7.24792462196",
         "1538620156444.79",
         "113.89708355763"
        ],
        [
         "2015-01-30 00:00:00",
         "12187615.5899265",
         "7.24792462196",
         "1538620156444.79",
         "113.89708355763"
        ],
        [
         "2015-01-31 00:00:00",
         "12187615.5899265",
         "7.24792462196",
         "1538620156444.79",
         "113.89708355763"
        ],
        [
         "2015-02-01 00:00:00",
         "12174269.7923105",
         "7.2751409816",
         "1538876736341.3",
         "114.27141473929"
        ],
        [
         "2015-02-02 00:00:00",
         "12174269.7923105",
         "7.2751409816",
         "1538876736341.3",
         "114.27141473929"
        ],
        [
         "2015-02-03 00:00:00",
         "12174269.7923105",
         "7.2751409816",
         "1538876736341.3",
         "114.27141473929"
        ],
        [
         "2015-02-04 00:00:00",
         "12174269.7923105",
         "7.2751409816",
         "1538876736341.3",
         "114.27141473929"
        ],
        [
         "2015-02-05 00:00:00",
         "12174269.7923105",
         "7.2751409816",
         "1538876736341.3",
         "114.27141473929"
        ],
        [
         "2015-02-06 00:00:00",
         "12174269.7923105",
         "7.2751409816",
         "1538876736341.3",
         "114.27141473929"
        ],
        [
         "2015-02-07 00:00:00",
         "12174269.7923105",
         "7.2751409816",
         "1538876736341.3",
         "114.27141473929"
        ],
        [
         "2015-02-08 00:00:00",
         "12174269.7923105",
         "7.2751409816",
         "1538876736341.3",
         "114.27141473929"
        ],
        [
         "2015-02-09 00:00:00",
         "12174269.7923105",
         "7.2751409816",
         "1538876736341.3",
         "114.27141473929"
        ],
        [
         "2015-02-10 00:00:00",
         "12174269.7923105",
         "7.2751409816",
         "1538876736341.3",
         "114.27141473929"
        ],
        [
         "2015-02-11 00:00:00",
         "12174269.7923105",
         "7.2751409816",
         "1538876736341.3",
         "114.27141473929"
        ],
        [
         "2015-02-12 00:00:00",
         "12174269.7923105",
         "7.2751409816",
         "1538876736341.3",
         "114.27141473929"
        ],
        [
         "2015-02-13 00:00:00",
         "12174269.7923105",
         "7.2751409816",
         "1538876736341.3",
         "114.27141473929"
        ],
        [
         "2015-02-14 00:00:00",
         "12174269.7923105",
         "7.2751409816",
         "1538876736341.3",
         "114.27141473929"
        ],
        [
         "2015-02-15 00:00:00",
         "12174269.7923105",
         "7.2751409816",
         "1538876736341.3",
         "114.27141473929"
        ],
        [
         "2015-02-16 00:00:00",
         "12174269.7923105",
         "7.2751409816",
         "1538876736341.3",
         "114.27141473929"
        ],
        [
         "2015-02-17 00:00:00",
         "12174269.7923105",
         "7.2751409816",
         "1538876736341.3",
         "114.27141473929"
        ],
        [
         "2015-02-18 00:00:00",
         "12174269.7923105",
         "7.2751409816",
         "1538876736341.3",
         "114.27141473929"
        ],
        [
         "2015-02-19 00:00:00",
         "12174269.7923105",
         "7.2751409816",
         "1538876736341.3",
         "114.27141473929"
        ]
       ],
       "shape": {
        "columns": 4,
        "rows": 3804
       }
      },
      "text/html": [
       "<div>\n",
       "<style scoped>\n",
       "    .dataframe tbody tr th:only-of-type {\n",
       "        vertical-align: middle;\n",
       "    }\n",
       "\n",
       "    .dataframe tbody tr th {\n",
       "        vertical-align: top;\n",
       "    }\n",
       "\n",
       "    .dataframe thead th {\n",
       "        text-align: right;\n",
       "    }\n",
       "</style>\n",
       "<table border=\"1\" class=\"dataframe\">\n",
       "  <thead>\n",
       "    <tr style=\"text-align: right;\">\n",
       "      <th></th>\n",
       "      <th>TotRes</th>\n",
       "      <th>UnemRt</th>\n",
       "      <th>IndPro</th>\n",
       "      <th>CPIPrc</th>\n",
       "    </tr>\n",
       "    <tr>\n",
       "      <th>date</th>\n",
       "      <th></th>\n",
       "      <th></th>\n",
       "      <th></th>\n",
       "      <th></th>\n",
       "    </tr>\n",
       "  </thead>\n",
       "  <tbody>\n",
       "    <tr>\n",
       "      <th>2015-01-01</th>\n",
       "      <td>12187615.5899265</td>\n",
       "      <td>7.24792462196</td>\n",
       "      <td>1538620156444.79</td>\n",
       "      <td>113.897084</td>\n",
       "    </tr>\n",
       "    <tr>\n",
       "      <th>2015-01-02</th>\n",
       "      <td>12187615.5899265</td>\n",
       "      <td>7.24792462196</td>\n",
       "      <td>1538620156444.79</td>\n",
       "      <td>113.897084</td>\n",
       "    </tr>\n",
       "    <tr>\n",
       "      <th>2015-01-03</th>\n",
       "      <td>12187615.5899265</td>\n",
       "      <td>7.24792462196</td>\n",
       "      <td>1538620156444.79</td>\n",
       "      <td>113.897084</td>\n",
       "    </tr>\n",
       "    <tr>\n",
       "      <th>2015-01-04</th>\n",
       "      <td>12187615.5899265</td>\n",
       "      <td>7.24792462196</td>\n",
       "      <td>1538620156444.79</td>\n",
       "      <td>113.897084</td>\n",
       "    </tr>\n",
       "    <tr>\n",
       "      <th>2015-01-05</th>\n",
       "      <td>12187615.5899265</td>\n",
       "      <td>7.24792462196</td>\n",
       "      <td>1538620156444.79</td>\n",
       "      <td>113.897084</td>\n",
       "    </tr>\n",
       "    <tr>\n",
       "      <th>...</th>\n",
       "      <td>...</td>\n",
       "      <td>...</td>\n",
       "      <td>...</td>\n",
       "      <td>...</td>\n",
       "    </tr>\n",
       "    <tr>\n",
       "      <th>2025-05-27</th>\n",
       "      <td>NaN</td>\n",
       "      <td>NaN</td>\n",
       "      <td>NaN</td>\n",
       "      <td>183.793950</td>\n",
       "    </tr>\n",
       "    <tr>\n",
       "      <th>2025-05-28</th>\n",
       "      <td>NaN</td>\n",
       "      <td>NaN</td>\n",
       "      <td>NaN</td>\n",
       "      <td>183.793950</td>\n",
       "    </tr>\n",
       "    <tr>\n",
       "      <th>2025-05-29</th>\n",
       "      <td>NaN</td>\n",
       "      <td>NaN</td>\n",
       "      <td>NaN</td>\n",
       "      <td>183.793950</td>\n",
       "    </tr>\n",
       "    <tr>\n",
       "      <th>2025-05-30</th>\n",
       "      <td>NaN</td>\n",
       "      <td>NaN</td>\n",
       "      <td>NaN</td>\n",
       "      <td>183.793950</td>\n",
       "    </tr>\n",
       "    <tr>\n",
       "      <th>2025-05-31</th>\n",
       "      <td>NaN</td>\n",
       "      <td>NaN</td>\n",
       "      <td>NaN</td>\n",
       "      <td>183.793950</td>\n",
       "    </tr>\n",
       "  </tbody>\n",
       "</table>\n",
       "<p>3804 rows × 4 columns</p>\n",
       "</div>"
      ],
      "text/plain": [
       "                      TotRes         UnemRt            IndPro      CPIPrc\n",
       "date                                                                     \n",
       "2015-01-01  12187615.5899265  7.24792462196  1538620156444.79  113.897084\n",
       "2015-01-02  12187615.5899265  7.24792462196  1538620156444.79  113.897084\n",
       "2015-01-03  12187615.5899265  7.24792462196  1538620156444.79  113.897084\n",
       "2015-01-04  12187615.5899265  7.24792462196  1538620156444.79  113.897084\n",
       "2015-01-05  12187615.5899265  7.24792462196  1538620156444.79  113.897084\n",
       "...                      ...            ...               ...         ...\n",
       "2025-05-27               NaN            NaN               NaN  183.793950\n",
       "2025-05-28               NaN            NaN               NaN  183.793950\n",
       "2025-05-29               NaN            NaN               NaN  183.793950\n",
       "2025-05-30               NaN            NaN               NaN  183.793950\n",
       "2025-05-31               NaN            NaN               NaN  183.793950\n",
       "\n",
       "[3804 rows x 4 columns]"
      ]
     },
     "execution_count": 7,
     "metadata": {},
     "output_type": "execute_result"
    }
   ],
   "source": [
    "import pandas as pd\n",
    "import numpy as np\n",
    "\n",
    "df_GEM = pd.read_csv('To clean/Global Economic Monitor/P_Data_Extract_From_Global_Economic_Monitor_(GEM)/0c396af2-fd0d-46c8-8589-b49237586872_Data.csv')\n",
    "df_GEM = df_GEM.dropna(how='all')\n",
    "df_GEM.replace(['..', ''], np.nan, inplace=True)\n",
    "df_GEM = df_GEM.dropna(axis=1, thresh=int(0.1 * len(df_GEM)))\n",
    "df_GEM\n",
    "\n",
    "keep_codes = ['[TOTRESV]', '[CPTOTSAXN]', '[IPTOTSAKD]', '[UNEMPSA_]']\n",
    "id_cols = ['Time']\n",
    "df_GEM = df_GEM[[col for col in df_GEM.columns if any(code in col for code in keep_codes) or col in id_cols]]\n",
    "df_GEM.columns = [\n",
    "    next((code.strip('[]') for code in keep_codes if code in col), col)\n",
    "    for col in df_GEM.columns\n",
    "]\n",
    "df_GEM\n",
    "df_GEM = df_GEM.iloc[:-2]\n",
    "df_GEM = df_GEM.rename(columns={'Time': 'date', 'UNEMPSA_' : 'UnemRt', 'TOTRESV' : 'TotRes', 'IPTOTSAKD':'IndPro', 'CPTOTSAXN':'CPIPrc' })\n",
    "\n",
    "df_GEM['date'] = pd.to_datetime(df_GEM['date'], format='%YM%m')\n",
    "df_GEM = df_GEM.set_index('date')\n",
    "df_GEM\n",
    "# forward fill missing dates in order to have daily data from the first date to the last day of the last month\n",
    "last_date = df_GEM.index.max()\n",
    "last_day = last_date + pd.offsets.MonthEnd(0)\n",
    "daily_index = pd.date_range(start=df_GEM.index.min(), end=last_day, freq='D')\n",
    "df_GEM_daily = df_GEM.reindex(daily_index, method='ffill')\n",
    "df_GEM_daily.index.name = 'date'\n",
    "\n",
    "df_GEM_daily.to_csv('Cleaned Datasets/new_GEM.csv')\n",
    "\n",
    "df_GEM_daily"
   ]
  },
  {
   "cell_type": "markdown",
   "id": "c0124720",
   "metadata": {},
   "source": [
    "## Economic Policy Uncertainty"
   ]
  },
  {
   "cell_type": "markdown",
   "id": "a3e29ea2",
   "metadata": {},
   "source": [
    "Collected from:  \n",
    "- Daily US-Only: [Economic Policy Uncertainty](https://www.policyuncertainty.com/media/All_Daily_Policy_Data.csv)"
   ]
  },
  {
   "cell_type": "code",
   "execution_count": null,
   "id": "fec58990",
   "metadata": {},
   "outputs": [
    {
     "data": {
      "application/vnd.microsoft.datawrangler.viewer.v0+json": {
       "columns": [
        {
         "name": "date",
         "rawType": "datetime64[ns]",
         "type": "datetime"
        },
        {
         "name": "EPU_DUS",
         "rawType": "float64",
         "type": "float"
        }
       ],
       "ref": "9c4a33e6-dca1-4ee5-9a6a-a5ba53a24387",
       "rows": [
        [
         "2015-01-01 00:00:00",
         "137.22"
        ],
        [
         "2015-01-02 00:00:00",
         "93.14"
        ],
        [
         "2015-01-03 00:00:00",
         "79.59"
        ],
        [
         "2015-01-04 00:00:00",
         "163.12"
        ],
        [
         "2015-01-05 00:00:00",
         "90.66"
        ],
        [
         "2015-01-06 00:00:00",
         "85.46"
        ],
        [
         "2015-01-07 00:00:00",
         "57.14"
        ],
        [
         "2015-01-08 00:00:00",
         "59.56"
        ],
        [
         "2015-01-09 00:00:00",
         "44.45"
        ],
        [
         "2015-01-10 00:00:00",
         "90.61"
        ],
        [
         "2015-01-11 00:00:00",
         "110.37"
        ],
        [
         "2015-01-12 00:00:00",
         "99.54"
        ],
        [
         "2015-01-13 00:00:00",
         "68.71"
        ],
        [
         "2015-01-14 00:00:00",
         "82.58"
        ],
        [
         "2015-01-15 00:00:00",
         "88.27"
        ],
        [
         "2015-01-16 00:00:00",
         "50.91"
        ],
        [
         "2015-01-17 00:00:00",
         "78.8"
        ],
        [
         "2015-01-18 00:00:00",
         "131.37"
        ],
        [
         "2015-01-19 00:00:00",
         "72.54"
        ],
        [
         "2015-01-20 00:00:00",
         "74.06"
        ],
        [
         "2015-01-21 00:00:00",
         "43.82"
        ],
        [
         "2015-01-22 00:00:00",
         "85.21"
        ],
        [
         "2015-01-23 00:00:00",
         "82.9"
        ],
        [
         "2015-01-24 00:00:00",
         "75.04"
        ],
        [
         "2015-01-25 00:00:00",
         "87.69"
        ],
        [
         "2015-01-26 00:00:00",
         "54.5"
        ],
        [
         "2015-01-27 00:00:00",
         "55.58"
        ],
        [
         "2015-01-28 00:00:00",
         "77.51"
        ],
        [
         "2015-01-29 00:00:00",
         "32.14"
        ],
        [
         "2015-01-30 00:00:00",
         "65.15"
        ],
        [
         "2015-01-31 00:00:00",
         "82.5"
        ],
        [
         "2015-02-01 00:00:00",
         "66.55"
        ],
        [
         "2015-02-02 00:00:00",
         "79.45"
        ],
        [
         "2015-02-03 00:00:00",
         "65.6"
        ],
        [
         "2015-02-04 00:00:00",
         "67.26"
        ],
        [
         "2015-02-05 00:00:00",
         "115.17"
        ],
        [
         "2015-02-06 00:00:00",
         "59.12"
        ],
        [
         "2015-02-07 00:00:00",
         "48.01"
        ],
        [
         "2015-02-08 00:00:00",
         "75.83"
        ],
        [
         "2015-02-09 00:00:00",
         "87.49"
        ],
        [
         "2015-02-10 00:00:00",
         "83.73"
        ],
        [
         "2015-02-11 00:00:00",
         "50.54"
        ],
        [
         "2015-02-12 00:00:00",
         "26.96"
        ],
        [
         "2015-02-13 00:00:00",
         "54.65"
        ],
        [
         "2015-02-14 00:00:00",
         "56.6"
        ],
        [
         "2015-02-15 00:00:00",
         "67.8"
        ],
        [
         "2015-02-16 00:00:00",
         "37.41"
        ],
        [
         "2015-02-17 00:00:00",
         "50.67"
        ],
        [
         "2015-02-18 00:00:00",
         "37.15"
        ],
        [
         "2015-02-19 00:00:00",
         "102.56"
        ]
       ],
       "shape": {
        "columns": 1,
        "rows": 3833
       }
      },
      "text/html": [
       "<div>\n",
       "<style scoped>\n",
       "    .dataframe tbody tr th:only-of-type {\n",
       "        vertical-align: middle;\n",
       "    }\n",
       "\n",
       "    .dataframe tbody tr th {\n",
       "        vertical-align: top;\n",
       "    }\n",
       "\n",
       "    .dataframe thead th {\n",
       "        text-align: right;\n",
       "    }\n",
       "</style>\n",
       "<table border=\"1\" class=\"dataframe\">\n",
       "  <thead>\n",
       "    <tr style=\"text-align: right;\">\n",
       "      <th></th>\n",
       "      <th>EPU_DUS</th>\n",
       "    </tr>\n",
       "    <tr>\n",
       "      <th>date</th>\n",
       "      <th></th>\n",
       "    </tr>\n",
       "  </thead>\n",
       "  <tbody>\n",
       "    <tr>\n",
       "      <th>2015-01-01</th>\n",
       "      <td>137.22</td>\n",
       "    </tr>\n",
       "    <tr>\n",
       "      <th>2015-01-02</th>\n",
       "      <td>93.14</td>\n",
       "    </tr>\n",
       "    <tr>\n",
       "      <th>2015-01-03</th>\n",
       "      <td>79.59</td>\n",
       "    </tr>\n",
       "    <tr>\n",
       "      <th>2015-01-04</th>\n",
       "      <td>163.12</td>\n",
       "    </tr>\n",
       "    <tr>\n",
       "      <th>2015-01-05</th>\n",
       "      <td>90.66</td>\n",
       "    </tr>\n",
       "    <tr>\n",
       "      <th>...</th>\n",
       "      <td>...</td>\n",
       "    </tr>\n",
       "    <tr>\n",
       "      <th>2025-06-25</th>\n",
       "      <td>346.08</td>\n",
       "    </tr>\n",
       "    <tr>\n",
       "      <th>2025-06-26</th>\n",
       "      <td>242.84</td>\n",
       "    </tr>\n",
       "    <tr>\n",
       "      <th>2025-06-27</th>\n",
       "      <td>300.03</td>\n",
       "    </tr>\n",
       "    <tr>\n",
       "      <th>2025-06-28</th>\n",
       "      <td>360.69</td>\n",
       "    </tr>\n",
       "    <tr>\n",
       "      <th>2025-06-29</th>\n",
       "      <td>791.20</td>\n",
       "    </tr>\n",
       "  </tbody>\n",
       "</table>\n",
       "<p>3833 rows × 1 columns</p>\n",
       "</div>"
      ],
      "text/plain": [
       "            EPU_DUS\n",
       "date               \n",
       "2015-01-01   137.22\n",
       "2015-01-02    93.14\n",
       "2015-01-03    79.59\n",
       "2015-01-04   163.12\n",
       "2015-01-05    90.66\n",
       "...             ...\n",
       "2025-06-25   346.08\n",
       "2025-06-26   242.84\n",
       "2025-06-27   300.03\n",
       "2025-06-28   360.69\n",
       "2025-06-29   791.20\n",
       "\n",
       "[3833 rows x 1 columns]"
      ]
     },
     "execution_count": 9,
     "metadata": {},
     "output_type": "execute_result"
    }
   ],
   "source": [
    "import pandas as pd\n",
    "\n",
    "df_EPU_US_D = pd.read_csv(\"To clean/Economic Policy Uncertainty/All_Daily_Policy_Data_2.csv\") \n",
    "df_EPU_US_D['date'] = df_EPU_US_D['day'].astype(str) + '-' + df_EPU_US_D['month'].astype(str) + '-' + df_EPU_US_D['year'].astype(str)\n",
    "df_EPU_US_D = df_EPU_US_D.drop(columns=['day', 'month', 'year'], axis=1)\n",
    "df_EPU_US_D['date'] = pd.to_datetime(df_EPU_US_D['date'], format='%d-%m-%Y')\n",
    "df_EPU_US_D = df_EPU_US_D.set_index('date')\n",
    "df_EPU_US_D = df_EPU_US_D.rename(columns={'daily_policy_index': 'EPU_DUS'})\n",
    "df_EPU_US_D = df_EPU_US_D[df_EPU_US_D.index >= '2015-01-01']\n",
    "\n",
    "df_EPU_US_D.to_csv('Cleaned Datasets/new_EPU.csv')\n",
    "df_EPU_US_D \n",
    "\n",
    "\n"
   ]
  },
  {
   "cell_type": "markdown",
   "id": "905e6a4b",
   "metadata": {},
   "source": [
    "## Investor Sentiment Data"
   ]
  },
  {
   "cell_type": "markdown",
   "id": "12e3b729",
   "metadata": {},
   "source": [
    "Collected from [American Association of Individual Investors](https://www.aaii.com/sentimentsurvey/sent_results)"
   ]
  },
  {
   "cell_type": "code",
   "execution_count": null,
   "id": "ae29c26a",
   "metadata": {},
   "outputs": [
    {
     "data": {
      "application/vnd.microsoft.datawrangler.viewer.v0+json": {
       "columns": [
        {
         "name": "date",
         "rawType": "datetime64[ns]",
         "type": "datetime"
        },
        {
         "name": "Bullish",
         "rawType": "float64",
         "type": "float"
        },
        {
         "name": "Bearish",
         "rawType": "float64",
         "type": "float"
        },
        {
         "name": "InvSIX",
         "rawType": "float64",
         "type": "float"
        }
       ],
       "ref": "681fbe41-3d23-44c4-b50c-2efff8baf831",
       "rows": [
        [
         "2025-06-01 00:00:00",
         "0.328904",
         "0.418605",
         "-0.08970100000000003"
        ],
        [
         "2025-06-02 00:00:00",
         "0.328904",
         "0.418605",
         "-0.08970100000000003"
        ],
        [
         "2025-06-03 00:00:00",
         "0.328904",
         "0.418605",
         "-0.08970100000000003"
        ],
        [
         "2025-06-04 00:00:00",
         "0.328904",
         "0.418605",
         "-0.08970100000000003"
        ],
        [
         "2025-06-05 00:00:00",
         "0.326599",
         "0.414141",
         "-0.08754200000000001"
        ]
       ],
       "shape": {
        "columns": 3,
        "rows": 5
       }
      },
      "text/html": [
       "<div>\n",
       "<style scoped>\n",
       "    .dataframe tbody tr th:only-of-type {\n",
       "        vertical-align: middle;\n",
       "    }\n",
       "\n",
       "    .dataframe tbody tr th {\n",
       "        vertical-align: top;\n",
       "    }\n",
       "\n",
       "    .dataframe thead th {\n",
       "        text-align: right;\n",
       "    }\n",
       "</style>\n",
       "<table border=\"1\" class=\"dataframe\">\n",
       "  <thead>\n",
       "    <tr style=\"text-align: right;\">\n",
       "      <th></th>\n",
       "      <th>Bullish</th>\n",
       "      <th>Bearish</th>\n",
       "      <th>InvSIX</th>\n",
       "    </tr>\n",
       "    <tr>\n",
       "      <th>date</th>\n",
       "      <th></th>\n",
       "      <th></th>\n",
       "      <th></th>\n",
       "    </tr>\n",
       "  </thead>\n",
       "  <tbody>\n",
       "    <tr>\n",
       "      <th>2025-06-01</th>\n",
       "      <td>0.328904</td>\n",
       "      <td>0.418605</td>\n",
       "      <td>-0.089701</td>\n",
       "    </tr>\n",
       "    <tr>\n",
       "      <th>2025-06-02</th>\n",
       "      <td>0.328904</td>\n",
       "      <td>0.418605</td>\n",
       "      <td>-0.089701</td>\n",
       "    </tr>\n",
       "    <tr>\n",
       "      <th>2025-06-03</th>\n",
       "      <td>0.328904</td>\n",
       "      <td>0.418605</td>\n",
       "      <td>-0.089701</td>\n",
       "    </tr>\n",
       "    <tr>\n",
       "      <th>2025-06-04</th>\n",
       "      <td>0.328904</td>\n",
       "      <td>0.418605</td>\n",
       "      <td>-0.089701</td>\n",
       "    </tr>\n",
       "    <tr>\n",
       "      <th>2025-06-05</th>\n",
       "      <td>0.326599</td>\n",
       "      <td>0.414141</td>\n",
       "      <td>-0.087542</td>\n",
       "    </tr>\n",
       "  </tbody>\n",
       "</table>\n",
       "</div>"
      ],
      "text/plain": [
       "             Bullish   Bearish    InvSIX\n",
       "date                                    \n",
       "2025-06-01  0.328904  0.418605 -0.089701\n",
       "2025-06-02  0.328904  0.418605 -0.089701\n",
       "2025-06-03  0.328904  0.418605 -0.089701\n",
       "2025-06-04  0.328904  0.418605 -0.089701\n",
       "2025-06-05  0.326599  0.414141 -0.087542"
      ]
     },
     "execution_count": 11,
     "metadata": {},
     "output_type": "execute_result"
    }
   ],
   "source": [
    "import pandas as pd\n",
    "\n",
    "df_invsent= pd.read_excel('To clean/Investor Sentiment data/sentiment_2.xls', sheet_name='SENTIMENT', header=3, skipfooter= 205)\n",
    "df_invsent = df_invsent.rename(columns={'Date': 'date'})\n",
    "df_invsent = df_invsent.set_index('date')\n",
    "df_invsent = df_invsent[df_invsent.index >= '2015-01-01']\n",
    "\n",
    "keep = ['Bearish', 'Bullish']\n",
    "df_invsent= df_invsent.drop(columns=[col for col in df_invsent.columns if col not in keep])\n",
    "df_invsent['InvSIX'] = df_invsent['Bullish'] - df_invsent['Bearish']\n",
    "\n",
    "df_invsent.index = pd.to_datetime(df_invsent.index)\n",
    "df_invsent = df_invsent.sort_index()\n",
    "daily_index = pd.date_range(start=df_invsent.index.min(), end=df_invsent.index.max(), freq='D')\n",
    "df_invsent_daily = df_invsent.reindex(daily_index, method='ffill')\n",
    "df_invsent_daily.index.name = 'date'\n",
    "\n",
    "df_invsent_daily.to_csv('Cleaned Datasets/new_investor_sentiment.csv')\n",
    "\n",
    "df_invsent_daily.tail()"
   ]
  }
 ],
 "metadata": {
  "kernelspec": {
   "display_name": "Python 3",
   "language": "python",
   "name": "python3"
  },
  "language_info": {
   "codemirror_mode": {
    "name": "ipython",
    "version": 3
   },
   "file_extension": ".py",
   "mimetype": "text/x-python",
   "name": "python",
   "nbconvert_exporter": "python",
   "pygments_lexer": "ipython3",
   "version": "3.12.3"
  }
 },
 "nbformat": 4,
 "nbformat_minor": 5
}
